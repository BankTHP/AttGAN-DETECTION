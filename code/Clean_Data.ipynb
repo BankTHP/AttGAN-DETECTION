{
 "cells": [
  {
   "cell_type": "code",
   "execution_count": null,
   "metadata": {},
   "outputs": [],
   "source": [
    "import os \n",
    "import pandas as pd"
   ]
  },
  {
   "cell_type": "code",
   "execution_count": null,
   "metadata": {},
   "outputs": [],
   "source": [
    "file_names = []\n",
    "path = 'feature_info'\n",
    "for i in os.listdir(path) :\n",
    "    try :\n",
    "        for j in os.listdir(f'{path}/{i}') :\n",
    "            if j.endswith(\".csv\") and i == j.split('.')[0]:\n",
    "                file_names.append(f'{path}/{i}/{j}')\n",
    "    except :\n",
    "        continue"
   ]
  },
  {
   "cell_type": "code",
   "execution_count": null,
   "metadata": {},
   "outputs": [],
   "source": [
    "file_feature = []\n",
    "path = 'feature_attribute'\n",
    "for i in os.listdir(path) :\n",
    "    try :\n",
    "        for j in os.listdir(f'{path}/{i}') :\n",
    "            if j.endswith(\".csv\") and 'feature' == j.split('_')[0]:\n",
    "                file_feature.append(f'{path}/{i}/{j}')\n",
    "    except :\n",
    "        continue"
   ]
  },
  {
   "cell_type": "code",
   "execution_count": null,
   "metadata": {},
   "outputs": [],
   "source": [
    "file_feature.sort()\n",
    "file_feature.sort()"
   ]
  },
  {
   "cell_type": "code",
   "execution_count": null,
   "metadata": {},
   "outputs": [],
   "source": [
    "dfs = []\n",
    "for file_name in file_names:\n",
    "    df = pd.read_csv(file_name)\n",
    "    dfs.append(df)\n",
    "combined_df = pd.concat(dfs, axis=0,ignore_index=True)\n",
    "combined_df.loc[combined_df['attribute']=='lfw','attribute'] = 'real'\n",
    "combined_df.to_csv('combined_df.csv',index=False)\n"
   ]
  },
  {
   "cell_type": "code",
   "execution_count": null,
   "metadata": {},
   "outputs": [],
   "source": [
    "\n",
    "dfs = []\n",
    "for file_name in file_feature:\n",
    "    df = pd.read_csv(file_name,header=None)\n",
    "    dfs.append(df)\n",
    "feature_df = pd.concat(dfs, axis=0,ignore_index=True)\n",
    "feature_df.to_csv('feature_df.csv',index=False)\n"
   ]
  }
 ],
 "metadata": {
  "kernelspec": {
   "display_name": "Python 3.10.6 64-bit",
   "language": "python",
   "name": "python3"
  },
  "language_info": {
   "name": "python",
   "version": "3.10.6"
  },
  "orig_nbformat": 4,
  "vscode": {
   "interpreter": {
    "hash": "aee8b7b246df8f9039afb4144a1f6fd8d2ca17a180786b69acc140d282b71a49"
   }
  }
 },
 "nbformat": 4,
 "nbformat_minor": 2
}
